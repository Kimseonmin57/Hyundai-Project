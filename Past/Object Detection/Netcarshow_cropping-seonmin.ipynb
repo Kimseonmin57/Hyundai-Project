{
 "cells": [
  {
   "cell_type": "code",
   "execution_count": 2,
   "metadata": {},
   "outputs": [],
   "source": [
    "from PIL import Image\n",
    "import glob"
   ]
  },
  {
   "cell_type": "code",
   "execution_count": 5,
   "metadata": {},
   "outputs": [],
   "source": [
    "img_pathes = glob.glob(\"C:/Users/Seonmin/Desktop/*.jpg\") # 차 이미지가 받아져있는 경로를 넣으면 됩니다."
   ]
  },
  {
   "cell_type": "code",
   "execution_count": 6,
   "metadata": {},
   "outputs": [
    {
     "data": {
      "text/plain": [
       "['C:/Users/Seonmin/Desktop\\\\SsangYong-Tivoli_XLV-2017-ig.jpg',\n",
       " 'C:/Users/Seonmin/Desktop\\\\SsangYong-XAV-Adventure_Concept-2015-ig.jpg',\n",
       " 'C:/Users/Seonmin/Desktop\\\\Subaru-Crosstrek_Hybrid-2019-ig.jpg',\n",
       " 'C:/Users/Seonmin/Desktop\\\\Subaru-Outback-2020-ig.jpg']"
      ]
     },
     "execution_count": 6,
     "metadata": {},
     "output_type": "execute_result"
    }
   ],
   "source": [
    "img_pathes # 이런 식으로 이미지 파일들의 저장경로가 리스트 형태로 저장."
   ]
  },
  {
   "cell_type": "code",
   "execution_count": 7,
   "metadata": {},
   "outputs": [
    {
     "data": {
      "text/plain": [
       "['C:/Users/Seonmin/Desktop', 'SsangYong-Tivoli_XLV-2017-ig.jpg']"
      ]
     },
     "execution_count": 7,
     "metadata": {},
     "output_type": "execute_result"
    }
   ],
   "source": [
    "img_pathes[0].split(\"\\\\\") # img_path가 어떻게 생겼나를 보고 \\\\를 기준으로 잡은 것임.\n",
    "# 각자 실행시켰을 때는 다를 수도 있으므로 \\\\가 아니라 다른 것을 기준으로 split해야할 수도 있음."
   ]
  },
  {
   "cell_type": "code",
   "execution_count": 10,
   "metadata": {},
   "outputs": [],
   "source": [
    "for img_path in img_pathes:\n",
    "    img_name = img_path.split(\"\\\\\")[-1] # 위에서 발견한 split기준으로 split해준다.\n",
    "    model_name = img_name[:-4]\n",
    "    img = Image.open(img_path)\n",
    "    area = (0,0, 1440,1200)\n",
    "    cropped_img = img.crop(area)\n",
    "    cropped_img.save(model_name+\".jpg\") # 작업하고 있는 디렉토리에 바로 이미지 저장됌."
   ]
  }
 ],
 "metadata": {
  "kernelspec": {
   "display_name": "Python 3",
   "language": "python",
   "name": "python3"
  },
  "language_info": {
   "codemirror_mode": {
    "name": "ipython",
    "version": 3
   },
   "file_extension": ".py",
   "mimetype": "text/x-python",
   "name": "python",
   "nbconvert_exporter": "python",
   "pygments_lexer": "ipython3",
   "version": "3.7.6"
  }
 },
 "nbformat": 4,
 "nbformat_minor": 4
}
