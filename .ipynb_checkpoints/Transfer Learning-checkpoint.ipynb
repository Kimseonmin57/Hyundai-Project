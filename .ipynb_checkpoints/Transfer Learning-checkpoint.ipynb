{
 "cells": [
  {
   "cell_type": "markdown",
   "metadata": {
    "colab_type": "text",
    "id": "YyelEQ72VPuy"
   },
   "source": [
    "# Transfer Learning 1 : ResNet50 계층 그대로 가져다 쓰기\n",
    "전이학습에는 계층을 그대로 가져다 쓰는 방법과, 계층 중에서 일부를 더 학습시키는 방법(fine-tuning)이 있습니다. 첫 번째 방법은 분류기를 제외한 사전 학습된 모델을 가져온 다음 그 위에 사용자에게 맞게 fully-connected 계층을 얹어서 모델을 구축합니다. 기존 예제코드에서 돌려볼 수 있는 부분은 돌려보면서 최대한 바로 사용할 수 있게끔 만들어봤는데, 해결해야 될 점이 아직은 남아있습니다.\n",
    "\n",
    "참고 : https://keraskorea.github.io/posts/2018-10-24-little_data_powerful_model/ <- 케라스 공식 블로그, 작은 데이터셋으로 강력한 이미지 분류 모델 설계하기\n",
    "\n",
    "https://gist.github.com/fchollet/f35fbc80e066a49d65f1688a7e99f069 <- 참고한 원본 코드"
   ]
  },
  {
   "cell_type": "code",
   "execution_count": 0,
   "metadata": {
    "colab": {},
    "colab_type": "code",
    "id": "e18tBjbnVKjg"
   },
   "outputs": [],
   "source": [
    "import numpy as np\n",
    "from keras.preprocessing.image import ImageDataGenerator\n",
    "from keras.models import Sequential\n",
    "from keras.layers import Dropout, Flatten, Dense\n",
    "from keras import applications\n",
    "\n",
    "# dimensions of our images.\n",
    "img_width, img_height = 224, 224 ##프로젝트에서 활용할 이미지의 크기\n",
    "\n",
    "top_model_weights_path = ##top_model의 가중치를 저장할 경로 '/content/drive/My Drive/Folder_Model_Train'\n",
    "'''top_model은 resnet50를 의미하는 건가?'''\n",
    "train_data_dir = ##train_data의 경로 - augmentation 한 이미지들\n",
    "validation_data_dir = ##validation_data의 경로 '/content/drive/Shared drives/선빵팀 :)/TuningStar_최종/TuningStar'\n",
    "nb_train_samples = ##학습 데이터의 갯수 : augmentation 된 전체 이미지의 갯수\n",
    "nb_validation_samples = ##테스트 데이터의 갯수 : 949\n",
    "epochs = 50 ## 학습 에폭 수\n",
    "batch_size = 100 ## 학습 당 batch_size\n",
    "\n",
    "## bottleneck_features : classifier 직전의 vector를 의미함. (ResNet 50을 통과시킨) feature vector와 같은 의미\n",
    "def save_bottlebeck_features():\n",
    "    datagen = ImageDataGenerator(rescale=1. / 255)\n",
    "\n",
    "    # build the ResNet50 Network\n",
    "    model = applications.ResNet50(include_top=False, weights='imagenet')\n",
    "    # Shuffle을 false로 두어야 원래 순서대로 들어감(카테고리가 뒤섞이지 않는다.)\n",
    "    generator = datagen.flow_from_directory(\n",
    "        train_data_dir,\n",
    "        target_size=(img_width, img_height),\n",
    "        batch_size=batch_size,\n",
    "        class_mode=None,\n",
    "        shuffle=False)\n",
    "    bottleneck_features_train = model.predict_generator(\n",
    "        generator, nb_train_samples // batch_size)\n",
    "    # np.save / np.load : 경로 지정한 곳으로 저장, 불러오기 가능, .npy확장자로 save하면 batch로 묶인 벡터들이 들어간다.\n",
    "    np.save('/content/drive/My Drive/Folder_Model_Train/bottleneck_features_train.npy',\n",
    "            bottleneck_features_train)\n",
    "\n",
    "    generator = datagen.flow_from_directory(\n",
    "        validation_data_dir,\n",
    "        target_size=(img_width, img_height),\n",
    "        batch_size=batch_size,\n",
    "        class_mode=None,\n",
    "        shuffle=False)\n",
    "    bottleneck_features_validation = model.predict_generator(\n",
    "        generator, nb_validation_samples)\n",
    "    np.save('/content/drive/My Drive/Folder_Model_Train/bottleneck_features_validation.npy',\n",
    "            bottleneck_features_validation)\n",
    "\n",
    "    # 위에서 저장한 feature vector들을 불러와서, 순서대로 들어온 feature vector들에 label을 붙여준다.\n",
    "def train_top_model():\n",
    "    train_data = np.load(open('bottleneck_features_train.npy'))\n",
    "    train_labels = ##상황에 맞게 따로 만들어주어야 한다.\n",
    "\n",
    "    validation_data = np.load(open('bottleneck_features_validation.npy'))\n",
    "    validation_labels = ##상황에 맞게 따로 만들어주어야 한다.\n",
    "\n",
    "    model = Sequential()\n",
    "    model.add(Flatten(input_shape=train_data.shape[1:]))\n",
    "    model.add(Dense(256, activation='relu'))\n",
    "    model.add(Dropout(0.5))\n",
    "    model.add(Dense(756, activation='softmax')) #dense는 분류기 갯수만큼\n",
    "\n",
    "    model.compile(optimizer='rmsprop',\n",
    "                  loss='binary_crossentropy', metrics=['accuracy'])\n",
    "\n",
    "    model.fit(train_data, train_labels,\n",
    "              epochs=epochs,\n",
    "              batch_size=batch_size,\n",
    "              validation_data=(validation_data, validation_labels))\n",
    "    model.save_weights(top_model_weights_path)\n",
    "\n",
    "\n",
    "save_bottlebeck_features()\n",
    "train_top_model()"
   ]
  },
  {
   "cell_type": "markdown",
   "metadata": {
    "colab_type": "text",
    "id": "pR8dOa4_YnhY"
   },
   "source": [
    "## Labeling train data set and validation data set\n",
    "\n",
    "이미지들의 갯수에 맞춰서 labeling을 해줍니다."
   ]
  },
  {
   "cell_type": "code",
   "execution_count": 0,
   "metadata": {
    "colab": {},
    "colab_type": "code",
    "id": "naZUqKC8ZbZf"
   },
   "outputs": [],
   "source": [
    "# train data labeling\n",
    "## 기존에는 폴더 당 갯수 10000개를 맞췄다고 가정하고 labeling을 했는데, 실제로 받아보니 카테고리들마다 이미지 갯수가 달라서 해결해야 할 부분.\n",
    "import numpy as np\n",
    "\n",
    "a = np.array([0]*10000)\n",
    "for i in range(0,756):\n",
    "  x = np.array([i]*10000)\n",
    "  a = np.concatenate((a,x))\n",
    "a"
   ]
  },
  {
   "cell_type": "markdown",
   "metadata": {
    "colab_type": "text",
    "id": "Nj2F-Z9Xb0Sh"
   },
   "source": [
    "밑으로는 쭉 validation data labeling 입니다.\n"
   ]
  },
  {
   "cell_type": "code",
   "execution_count": 0,
   "metadata": {
    "colab": {},
    "colab_type": "code",
    "id": "p6ecsdSnZwnr"
   },
   "outputs": [],
   "source": [
    "# validation data labeling\n",
    "## 원본 이미지 하나하나를 validation data로 두고 모델 검증\n",
    "\n",
    "import glob\n",
    "wheel_path = glob.glob('휠 원본 데이터 경로') ##휠들 경로 뽑아내기\n",
    "\n",
    "wheel_path[0].split('/')[-1].split('.')[0].split('(')[0].strip() ##경로에서 휠 번호만 뽑아내기, 맨 첫 파일로만 시험\n"
   ]
  },
  {
   "cell_type": "code",
   "execution_count": 0,
   "metadata": {
    "colab": {},
    "colab_type": "code",
    "id": "lMv4cVdFbrM5"
   },
   "outputs": [],
   "source": [
    "## 휠 번호들 하나의 리스트로 만들어주기\n",
    "wheel_list = []\n",
    "for path in wheel_path:\n",
    "  a = path.split('/')[-1].split('.')[0].split('(')[0].strip()\n",
    "  wheel_list.append(a)\n",
    "\n",
    "## 맞게 들어왔는지 확인, set을 하면 중복 제거되어서 756개가 나와야 함\n",
    "len(wheel_list)\n",
    "len(set(wheel_list))"
   ]
  },
  {
   "cell_type": "code",
   "execution_count": 0,
   "metadata": {
    "colab": {},
    "colab_type": "code",
    "id": "pNKelVb8cPGS"
   },
   "outputs": [],
   "source": [
    "## 이제 번호들을 전부 int(정수형)로 바꿔주고 labeling\n",
    "wheel_list_int = []\n",
    "for num in wheel_list:\n",
    "  wheel_list_int.append(int(num))\n",
    "len(wheel_list_int)\n",
    "## 0번 카테고리는 먼저 labeling 해주고, 이어서 num에 맞게 배열 만들어서 붙여나가는 방식으로\n",
    "a = np.array([0]*3)\n",
    "for num in wheel_list_int[3:]:\n",
    "  x = np.array([num])\n",
    "  a = np.concatenate((a,x))\n",
    "a"
   ]
  },
  {
   "cell_type": "markdown",
   "metadata": {
    "colab_type": "text",
    "id": "a8PlKO6zc0fV"
   },
   "source": [
    "## 추가 : EarlyStopping과 LambdaCallback\n",
    "검색하다가 발견한건데, 밑의 코드를 활용하면 학습이 잘 되고 있는지(가중치가 변화하고 있는지) 확인할 수 있다고 합니다. 사용하면 좋을 것 같아서 일단 추가해놓습니다.\n",
    "\n",
    "참고 : https://rarena.tistory.com/entry/keras%ED%8A%B8%EB%A0%88%EC%9D%B4%EB%8B%9D-%EB%90%9C%EB%90%98%EA%B3%A0%EC%9E%88%EB%8A%94-weigth%EA%B0%92-%ED%99%95%EC%9D%B8?category=814480 , keras 트레이닝 되고 있는 weight값 확인"
   ]
  },
  {
   "cell_type": "code",
   "execution_count": 0,
   "metadata": {
    "colab": {},
    "colab_type": "code",
    "id": "89JUmAv2fxBO"
   },
   "outputs": [],
   "source": [
    "from keras.callbacks import EarlyStopping, LambdaCallback\n",
    " \n",
    "print_weights = LambdaCallback(on_epoch_end=lambda epoch, logs: print(model.layers[3].get_weights()))\n",
    "early_stopping = EarlyStopping(patience=15, mode='auto', monitor='val_loss')\n",
    "history = model.fit_generator(train_generator,\n",
    "                              steps_per_epoch=25,\n",
    "                              epochs=100,\n",
    "                              validation_data=val_generator,\n",
    "                              validation_steps=5,\n",
    "                              callbacks=[early_stopping, print_weights])"
   ]
  },
  {
   "cell_type": "markdown",
   "metadata": {
    "colab_type": "text",
    "id": "3JQOsof7gKFH"
   },
   "source": [
    "# Transfer Learning 2 : ResNet50 계층 일부분을 추가로 학습시켜서 활용하기(Fine-tuning)\n",
    "\n",
    "기존에 학습되어있는 fully-connected 계층을 가져와서(위에서 학습시킨 모델 가중치) ResNet50 위에 얹습니다. 이후 ResNet50 계층 구조를 참고하여 학습시키지 않을 부분은 동결시키고(non-trainable) 학습시킬 부분만 살려서 학습을 진행합니다.(중간에 non-trainable 계층 갯수는 생각해봐야 할 부분) 참고 페이지에서도 말하듯 fine tuning의 핵심은 미세 조정이기 때문에 learning rate를 낮게 설정하고, 또한 사례에서는 모델의 마지막 계층만을 추가로 학습시켰습니다. \n",
    "\n",
    "참고 : https://keraskorea.github.io/posts/2018-10-24-little_data_powerful_model/ <- 케라스 공식 블로그, 작은 데이터셋으로 강력한 이미지 분류(Transfer Learning 1과 동일)\n",
    "\n",
    "https://gist.github.com/fchollet/7eb39b44eb9e16e59632d25fb3119975 <- 원본 코드\n"
   ]
  },
  {
   "cell_type": "code",
   "execution_count": 0,
   "metadata": {
    "colab": {},
    "colab_type": "code",
    "id": "whGzkiQRiGaO"
   },
   "outputs": [],
   "source": [
    "from keras import applications\n",
    "from keras.preprocessing.image import ImageDataGenerator\n",
    "from keras import optimizers\n",
    "from keras.models import Sequential\n",
    "from keras.layers import Dropout, Flatten, Dense\n",
    "\n",
    "# path to the model weights files.\n",
    "## top_model_weights : 얹기 전에 미리 학습을 시켜야 함, 위에서 활용한 모델 가중치 활용\n",
    "weights_path = '../keras/examples/vgg16_weights.h5' ## 이건 왜 있는거지?? weights = 'imagenet'으로 부르면 되지 않을까 싶다.\n",
    "top_model_weights_path = 'fc_model.h5' ## 먼저 학습을 시키고 weight를 저장해둬야 함.\n",
    "# dimensions of our images.\n",
    "img_width, img_height = 150, 150\n",
    "\n",
    "train_data_dir = 'training data의 경로'\n",
    "validation_data_dir = 'validation data의 경로'\n",
    "nb_train_samples = ##데이터 갯수에 맞춰서\n",
    "nb_validation_samples = ##validation sample 갯수에 맞춰서\n",
    "epochs = 50\n",
    "batch_size = 16\n",
    "\n",
    "# build the ResNet50 network(사용자에 맞게)\n",
    "model = applications.ResNet50(weights='imagenet', include_top=False)\n",
    "print('Model loaded.')\n",
    "\n",
    "# build a classifier model to put on top of the convolutional model\n",
    "top_model = Sequential()\n",
    "top_model.add(Flatten(input_shape=model.output_shape[1:]))\n",
    "top_model.add(Dense(256, activation='relu'))\n",
    "top_model.add(Dropout(0.5))\n",
    "top_model.add(Dense(756, activation='softmax'))\n",
    "\n",
    "# note that it is necessary to start with a fully-trained\n",
    "# classifier, including the top classifier,\n",
    "# in order to successfully do fine-tuning\n",
    "top_model.load_weights(top_model_weights_path)\n",
    "\n",
    "# add the model on top of the convolutional base\n",
    "model.add(top_model)\n",
    "\n",
    "# set the first 25 layers (up to the last conv block)\n",
    "# to non-trainable (weights will not be updated)\n",
    "## 모델 레이어의 갯수가 여기서는 VGG16 기준이라, 구조를 보고 어디까지 살려야할지 생각해봐야 한다.\n",
    "for layer in model.layers[:25]:\n",
    "    layer.trainable = False\n",
    "\n",
    "# compile the model with a SGD/momentum optimizer\n",
    "# and a very slow learning rate.\n",
    "model.compile(loss='binary_crossentropy',\n",
    "              optimizer=optimizers.SGD(lr=1e-4, momentum=0.9),\n",
    "              metrics=['accuracy'])\n",
    "\n",
    "# prepare data augmentation configuration - augmentation을 미리 했으므로 굳이 필요는 없을 듯\n",
    "train_datagen = ImageDataGenerator(\n",
    "    rescale=1. / 255,\n",
    "    shear_range=0.2,\n",
    "    zoom_range=0.2,\n",
    "    horizontal_flip=True)\n",
    "\n",
    "test_datagen = ImageDataGenerator(rescale=1. / 255)\n",
    "\n",
    "train_generator = train_datagen.flow_from_directory(\n",
    "    train_data_dir,\n",
    "    target_size=(img_height, img_width),\n",
    "    batch_size=batch_size,\n",
    "    class_mode='binary')\n",
    "\n",
    "validation_generator = test_datagen.flow_from_directory(\n",
    "    validation_data_dir,\n",
    "    target_size=(img_height, img_width),\n",
    "    batch_size=batch_size,\n",
    "    class_mode='binary')\n",
    "\n",
    "# fine-tune the model\n",
    "model.fit_generator(\n",
    "    train_generator,\n",
    "    samples_per_epoch=nb_train_samples,\n",
    "    epochs=epochs,\n",
    "    validation_data=validation_generator,\n",
    "    nb_val_samples=nb_validation_samples)"
   ]
  }
 ],
 "metadata": {
  "colab": {
   "authorship_tag": "ABX9TyND1eSVn5oJYCGU+Fbq4TNl",
   "collapsed_sections": [],
   "name": "Transfer Learning.ipynb",
   "provenance": []
  },
  "kernelspec": {
   "display_name": "Python 3",
   "language": "python",
   "name": "python3"
  },
  "language_info": {
   "codemirror_mode": {
    "name": "ipython",
    "version": 3
   },
   "file_extension": ".py",
   "mimetype": "text/x-python",
   "name": "python",
   "nbconvert_exporter": "python",
   "pygments_lexer": "ipython3",
   "version": "3.7.6"
  }
 },
 "nbformat": 4,
 "nbformat_minor": 1
}
